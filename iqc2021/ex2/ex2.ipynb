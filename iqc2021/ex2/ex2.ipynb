{
 "cells": [
  {
   "cell_type": "markdown",
   "id": "66587314",
   "metadata": {},
   "source": [
    "# Exercise 2 - Shor's algorithm\n",
    "## Historical background\n",
    "\n",
    "In computing, we often measure the performance of an algorithm by how it grows with the size of the input problem. For example, addition has an algorithm that grows linearly with the size of the numbers we're adding. There are some computing problems for which the best algorithms we have grow _exponentially_ with the size of the input, and this means inputs with a relatively modest size are too big to solve using any computer on earth. We're so sure of this, much of the internet's security depends on certain problems being unsolvable.\n",
    "\n",
    "In 1994, Peter Shor showed that it’s possible to factor a number into its primes efficiently on a quantum computer.[1] This is big news, as the best classical algorithm we know of is one of these algorithms that grows exponentially. And in fact, [RSA encryption](https://en.wikipedia.org/wiki/RSA_(cryptosystem)) relies on factoring large enough numbers being infeasible. To factor integers that are too big for our current classical computers will require millions of qubits and gates, and these circuits are far too big to run on today’s quantum computers successfully.\n",
    "\n",
    "So how did Lieven M.K. Vandersypen, Matthias Steffen, Gregory Breyta, Costantino S. Yannoni, Mark H. Sherwood and Isaac L. Chuang manage to factor 15 on a quantum computer, all the way back in 2001?![2]\n",
    "\n",
    "The difficulty in creating circuits for Shor’s algorithm is creating the circuit that computes a controlled $ay \\bmod N$. While we know how to create these circuits using a polynomial number of gates, these are still too large for today’s computers. Fortunately, if we know some information about the problem a priori, then we can sometimes ‘cheat’ and create more efficient circuits.\n",
    "\n",
    "To run this circuit on the hardware available to them, the authors of the above paper found a very simple circuit that performed $7y \\bmod 15$. This made the circuit small enough to run on their hardware. By the end of this exercise, you will have created a circuit for $35y \\bmod N$ that can be used in Shor’s algorithm and can run on `ibmq_santiago`.\n",
    "\n",
    "If you want to understand what's going on in this exercise, you should check out the [Qiskit Textbook page on Shor's algorithm](https://qiskit.org/textbook/ch-algorithms/shor.html), but if this is too involved for you, you can complete the exercise without this.\n",
    "\n",
    "### References\n",
    "1. Shor, Peter W. \"Algorithms for quantum computation: discrete logarithms and factoring.\" Proceedings 35th annual symposium on foundations of computer science. Ieee, 1994.\n",
    "1. Vandersypen, Lieven MK, et al. \"Experimental realization of Shor's quantum factoring algorithm using nuclear magnetic resonance.\" Nature 414.6866 (2001): 883-887."
   ]
  },
  {
   "cell_type": "markdown",
   "id": "d47aa81c",
   "metadata": {},
   "source": [
    "## tl;dr: Shor’s algorithm\n",
    "\n",
    "There is an algorithm called [_quantum phase estimation_](https://qiskit.org/textbook/ch-algorithms/quantum-phase-estimation.html) that tells us the phase a gate introduces to a certain type of state. For example, inputs to phase estimation algorithm could be the state $|1\\rangle$ and the gate $Z$. If the $Z$-gate acts on the state $|1\\rangle$, we get back the same state with an added global phase of $\\pi$:\n",
    "\n",
    "$$\n",
    "Z|1\\rangle = -|1\\rangle = e^{i\\pi} |1\\rangle\n",
    "$$\n",
    "\n",
    "And the quantum phase estimation algorithm could work this out for us. You can see another example [here](https://qiskit.org/textbook/ch-algorithms/quantum-phase-estimation.html#2.-Example:-T-gate-).\n",
    "\n",
    "Shor showed that if we do phase estimation on a gate, $U$, that has the behavior $U|y\\rangle = |a y\\bmod N\\rangle$, we can quickly get some information about $N$’s factors."
   ]
  },
  {
   "cell_type": "code",
   "execution_count": 2,
   "id": "58d650c3",
   "metadata": {},
   "outputs": [],
   "source": [
    "import numpy as np\n",
    "# Importing standard Qiskit libraries\n",
    "from qiskit import QuantumCircuit, transpile, Aer, IBMQ\n",
    "from qiskit.tools.jupyter import *\n",
    "from qiskit.visualization import *\n",
    "from ibm_quantum_widgets import *\n",
    "\n",
    "# Loading your IBM Quantum account(s)\n",
    "provider = IBMQ.load_account()"
   ]
  },
  {
   "cell_type": "code",
   "execution_count": 3,
   "id": "6e2744b9",
   "metadata": {},
   "outputs": [
    {
     "name": "stderr",
     "output_type": "stream",
     "text": [
      "ibmqfactory.load_account:WARNING:2021-05-20 22:25:51,116: Credentials are already in use. The existing account in the session will be replaced.\n"
     ]
    }
   ],
   "source": [
    "import numpy as np\n",
    "# Importing standard Qiskit libraries\n",
    "from qiskit import QuantumCircuit, transpile, Aer, IBMQ\n",
    "from qiskit.tools.jupyter import *\n",
    "from qiskit.visualization import *\n",
    "from ibm_quantum_widgets import *\n",
    "\n",
    "# Loading your IBM Quantum account(s)\n",
    "provider = IBMQ.load_account()"
   ]
  },
  {
   "cell_type": "markdown",
   "id": "7fc1a52e",
   "metadata": {},
   "source": [
    "## The problem\n",
    "\n",
    "In this exercise, we will factor 35 by doing phase estimation on a circuit that implements $13y \\bmod 35$. The exercise is to create a circuit that does this, and is also small enough to run on `ibmq_santiago`! This is not an easy task, so the first thing we’re going to do is cheat.\n",
    "\n",
    "A detail of Shor’s algorithm is that our circuit only needs to work on states we can reach through applying $U$ to the starting state $|1\\rangle$. I.e. we can use _any_ circuit that has the behavior: \n",
    "\n",
    "$$\n",
    "\\begin{aligned}\n",
    "U|1\\rangle &= |13\\rangle \\\\\n",
    "UU|1\\rangle &= |29\\rangle \\\\\n",
    "UUU|1\\rangle &= |27\\rangle \\\\\n",
    "UUUU|1\\rangle &= |1\\rangle \\\\\n",
    "\\end{aligned}\n",
    "$$\n",
    "\n",
    "So how can we make this easier for us? Since we only need to correctly transform 4 different states, we can encode these onto two qubits. For this exercise, we will choose to map the 2-qubit computational basis states to the numbers like so:\n",
    "\n",
    "$$\n",
    "\\begin{aligned}\n",
    "|1\\rangle &\\rightarrow |00\\rangle \\\\\n",
    "|13\\rangle &\\rightarrow |01\\rangle \\\\\n",
    "|29\\rangle &\\rightarrow |10\\rangle \\\\\n",
    "|27\\rangle &\\rightarrow |11\\rangle \\\\\n",
    "\\end{aligned}\n",
    "$$\n",
    "\n",
    "Why is this “cheating”? Well, to take advantage of this optimization, we need to know all the states $U$ is going to affect, which means we have to compute $ay \\bmod N$ until we get back to 1 again, and that means we know the period of $a^x \\bmod N$ and can therefore get the factors of $N$. Any optimization like this, in which we use information that would tell us the value $r$, is obviously not going to scale to problems that classical computers can’t solve. \n",
    "\n",
    "But the purpose of this exercise is just to verify that Shor’s algorithm does in fact work as intended, and we’re not going to worry about the fact that we cheated to get a circuit for $U$.\n",
    "\n",
    "<div id='u-definition'></div>\n",
    "<div class=\"alert alert-block alert-success\">\n",
    "\n",
    "**Exercise 2a:** Create a circuit ($U$) that performs the transformation:\n",
    "\n",
    "$$\n",
    "\\begin{aligned}\n",
    "U|00\\rangle &= |01\\rangle \\\\\n",
    "U|01\\rangle &= |10\\rangle \\\\\n",
    "U|10\\rangle &= |11\\rangle \\\\\n",
    "U|11\\rangle &= |00\\rangle \\\\\n",
    "\\end{aligned}\n",
    "$$\n",
    "\n",
    "and is controlled by another qubit. The circuit will act on a 2-qubit target register named 'target', and be controlled by another single-qubit register named 'control'. You should assign your finished circuit to the variable '`cu`'.\n",
    "    \n",
    "</div>"
   ]
  },
  {
   "cell_type": "code",
   "execution_count": 4,
   "id": "42f545ca",
   "metadata": {},
   "outputs": [
    {
     "data": {
      "application/vnd.jupyter.widget-view+json": {
       "model_id": "74949d9142f44b75b65a89ad77ba6375",
       "version_major": 2,
       "version_minor": 0
      },
      "text/plain": [
       "CircuitComposer(circuit=<qiskit.circuit.quantumcircuit.QuantumCircuit object at 0x7fc57775dac0>)"
      ]
     },
     "metadata": {},
     "output_type": "display_data"
    }
   ],
   "source": [
    "from qiskit import QuantumRegister, ClassicalRegister, QuantumCircuit\n",
    "from qiskit import IBMQ, Aer, execute\n",
    "from ibm_quantum_widgets import CircuitComposer\n",
    "editorEx = CircuitComposer() \n",
    "editorEx"
   ]
  },
  {
   "cell_type": "code",
   "execution_count": null,
   "id": "9289a9d1",
   "metadata": {},
   "outputs": [],
   "source": [
    "# This code is being generated automatically by the IBM Quantum Circuit Composer widget.\n",
    "# It changes in every update of the widget, so any modifications done in this cell will be lost.\n",
    "# State: synchronized\n",
    "\n",
    "from qiskit import QuantumRegister, ClassicalRegister, QuantumCircuit\n",
    "from numpy import pi\n",
    "\n",
    "qreg_q = QuantumRegister(3, 'q')\n",
    "creg_c = ClassicalRegister(3, 'c')\n",
    "circuit = QuantumCircuit(qreg_q, creg_c)\n",
    "\n",
    "circuit.cx(qreg_q[0], qreg_q[1])\n",
    "circuit.x(qreg_q[0])\n",
    "circuit.cx(qreg_q[1], qreg_q[2])\n",
    "circuit.x(qreg_q[2])\n",
    "circuit.cx(qreg_q[0], qreg_q[2])\n",
    "circuit.ccx(qreg_q[0], qreg_q[1], qreg_q[2])\n",
    "circuit.x(qreg_q[0])"
   ]
  },
  {
   "cell_type": "code",
   "execution_count": null,
   "id": "0e81907c",
   "metadata": {},
   "outputs": [],
   "source": [
    "# This code is being generated automatically by the IBM Quantum Circuit Composer widget.\n",
    "# It changes in every update of the widget, so any modifications done in this cell will be lost.\n",
    "# State: synchronized\n",
    "\n",
    "from qiskit import QuantumRegister, ClassicalRegister, QuantumCircuit\n",
    "from numpy import pi\n",
    "\n",
    "qreg_q = QuantumRegister(3, 'q')\n",
    "creg_c = ClassicalRegister(3, 'c')\n",
    "circuit = QuantumCircuit(qreg_q, creg_c)"
   ]
  },
  {
   "cell_type": "code",
   "execution_count": 10,
   "id": "a73b6e58",
   "metadata": {
    "scrolled": true
   },
   "outputs": [
    {
     "data": {
      "image/png": "[encoded data removed]",
      "text/plain": [
       "<Figure size 506.927x204.68 with 1 Axes>"
      ]
     },
     "execution_count": 10,
     "metadata": {},
     "output_type": "execute_result"
    }
   ],
   "source": [
    "from qiskit import QuantumCircuit\n",
    "from qiskit import QuantumRegister, QuantumCircuit\n",
    "c = QuantumRegister(1, 'control')\n",
    "t = QuantumRegister(2, 'target')\n",
    "cu = QuantumCircuit(c, t, name=\"Controlled 13^x mod 35\")\n",
    "\n",
    "# WRITE YOUR CODE BETWEEN THESE LINES - START\n",
    "\n",
    "cu.cx(c, t[0])\n",
    "cu.x(c)\n",
    "cu.cx(t[0], t[1])\n",
    "cu.x(t[1])\n",
    "cu.cx(c, t[1])\n",
    "cu.ccx(c, t[0], t[1])\n",
    "cu.x(c)\n",
    "\n",
    "# WRITE YOUR CODE BETWEEN THESE LINES - END\n",
    "\n",
    "cu.draw('mpl')"
   ]
  },
  {
   "cell_type": "markdown",
   "id": "224fb3fe",
   "metadata": {},
   "source": [
    "And run the cell below to check your answer:"
   ]
  },
  {
   "cell_type": "code",
   "execution_count": 8,
   "id": "7b7495ca",
   "metadata": {
    "scrolled": true
   },
   "outputs": [
    {
     "name": "stdout",
     "output_type": "stream",
     "text": [
      "Grading your answer for ex2/part1. Please wait...\n",
      "\n",
      "Congratulations 🎉! Your answer is correct.\n"
     ]
    }
   ],
   "source": [
    "# Check your answer using following code\n",
    "from qc_grader import grade_ex2a\n",
    "grade_ex2a(cu)"
   ]
  },
  {
   "cell_type": "markdown",
   "id": "5dc645e8",
   "metadata": {},
   "source": [
    "Congratulations! You’ve completed the hard part. \n",
    "\n",
    "We read the output of the phase estimation algorithm by measuring qubits, so we will need to make sure our 'counting' register contains enough qubits to read off $r$. In our case, $r = 4$, which means we only need $\\log_2(4) = 2$ qubits (cheating again because we know $r$ beforehand), but since Santiago has 5 qubits, and we've only used 2 for the 'target' register, we'll use all remaining 3 qubits as our counting register.\n",
    "\n",
    "To do phase estimation on $U$, we need to create circuits that perform $U^{2^x}$ ($U$ repeated $2^x$ times) for each qubit (with index $x$) in our register of $n$ counting qubits. In our case this means we need three circuits that implement:\n",
    "\n",
    "$$ U, \\; U^2, \\; \\text{and} \\; U^4 $$\n",
    "\n",
    "So the next step is to create a circuit that performs $U^2$ (i.e. a circuit equivalent to applying $U$ twice).\n",
    "\n",
    "<div class=\"alert alert-block alert-success\">\n",
    "\n",
    "**Exercise 2b:** Create a circuit ($U^2$) that performs the transformation:\n",
    "\n",
    "$$\n",
    "\\begin{aligned}\n",
    "U|00\\rangle &= |10\\rangle \\\\\n",
    "U|01\\rangle &= |11\\rangle \\\\\n",
    "U|10\\rangle &= |00\\rangle \\\\\n",
    "U|11\\rangle &= |01\\rangle \\\\\n",
    "\\end{aligned}\n",
    "$$\n",
    "\n",
    "and is controlled by another qubit. The circuit will act on a 2-qubit target register named 'target', and be controlled by another single-qubit register named 'control'. You should assign your finished circuit to the variable '`cu2`'.\n",
    "</div>"
   ]
  },
  {
   "cell_type": "code",
   "execution_count": 11,
   "id": "c67f13f8",
   "metadata": {
    "scrolled": true
   },
   "outputs": [
    {
     "data": {
      "image/png": "[encoded data removed]",
      "text/plain": [
       "<Figure size 868.127x204.68 with 1 Axes>"
      ]
     },
     "execution_count": 11,
     "metadata": {},
     "output_type": "execute_result"
    }
   ],
   "source": [
    "c = QuantumRegister(1, 'control')\n",
    "t = QuantumRegister(2, 'target')\n",
    "cu2 = QuantumCircuit(c, t)\n",
    "\n",
    "# WRITE YOUR CODE BETWEEN THESE LINES - START\n",
    "\n",
    "cu2.cx(c, t[0])\n",
    "cu2.x(c)\n",
    "cu2.cx(t[0], t[1])\n",
    "cu2.x(t[1])\n",
    "cu2.cx(c, t[1])\n",
    "cu2.ccx(c, t[0], t[1])\n",
    "cu2.x(c)\n",
    "\n",
    "cu2.cx(c, t[0])\n",
    "cu2.x(c)\n",
    "cu2.cx(t[0], t[1])\n",
    "cu2.x(t[1])\n",
    "cu2.cx(c, t[1])\n",
    "cu2.ccx(c, t[0], t[1])\n",
    "cu2.x(c)\n",
    "\n",
    "\n",
    "\n",
    "# WRITE YOUR CODE BETWEEN THESE LINES - END\n",
    "\n",
    "cu2.draw('mpl')"
   ]
  },
  {
   "cell_type": "markdown",
   "id": "c756b06b",
   "metadata": {},
   "source": [
    "And you can check your answer below:"
   ]
  },
  {
   "cell_type": "code",
   "execution_count": 12,
   "id": "0fdbf02f",
   "metadata": {
    "scrolled": true
   },
   "outputs": [
    {
     "name": "stdout",
     "output_type": "stream",
     "text": [
      "Grading your answer for ex2/part2. Please wait...\n",
      "\n",
      "Congratulations 🎉! Your answer is correct.\n"
     ]
    }
   ],
   "source": [
    "# Check your answer using following code\n",
    "from qc_grader import grade_ex2b\n",
    "grade_ex2b(cu2)"
   ]
  },
  {
   "cell_type": "markdown",
   "id": "bf71325a",
   "metadata": {},
   "source": [
    "Finally, we also need a circuit that is equivalent to applying $U$ four times (i.e. we need the circuit $U^4$).  \n",
    "\n",
    "<div class=\"alert alert-block alert-success\">\n",
    "    \n",
    "**Exercise 2c:** Create a circuit ($U^4$) that performs the transformation:\n",
    "\n",
    "$$\n",
    "\\begin{aligned}\n",
    "U|00\\rangle &= |00\\rangle \\\\\n",
    "U|01\\rangle &= |01\\rangle \\\\\n",
    "U|10\\rangle &= |10\\rangle \\\\\n",
    "U|11\\rangle &= |11\\rangle \\\\\n",
    "\\end{aligned}\n",
    "$$\n",
    "\n",
    "and is controlled by another qubit. The circuit will act on a 2-qubit target register named 'target', and be controlled by another single-qubit register named 'control'. You should assign your finished circuit to the variable '`cu4`'. _Hint: The best solution is very simple._\n",
    "</div>"
   ]
  },
  {
   "cell_type": "code",
   "execution_count": 13,
   "id": "c6016c49",
   "metadata": {
    "scrolled": true
   },
   "outputs": [
    {
     "data": {
      "image/png": "[encoded data removed]",
      "text/plain": [
       "<Figure size 175.827x204.68 with 1 Axes>"
      ]
     },
     "execution_count": 13,
     "metadata": {},
     "output_type": "execute_result"
    }
   ],
   "source": [
    "c = QuantumRegister(1, 'control')\n",
    "t = QuantumRegister(2, 'target')\n",
    "cu4 = QuantumCircuit(c, t)\n",
    "\n",
    "# WRITE YOUR CODE BETWEEN THESE LINES - START\n",
    "\n",
    "\n",
    "\n",
    "\n",
    "\n",
    "# WRITE YOUR CODE BETWEEN THESE LINES - END\n",
    "\n",
    "cu4.draw('mpl')"
   ]
  },
  {
   "cell_type": "markdown",
   "id": "b6d8184c",
   "metadata": {},
   "source": [
    "You can check your answer using the code below:"
   ]
  },
  {
   "cell_type": "code",
   "execution_count": 14,
   "id": "df184d39",
   "metadata": {
    "scrolled": true
   },
   "outputs": [
    {
     "name": "stdout",
     "output_type": "stream",
     "text": [
      "Grading your answer for ex2/part3. Please wait...\n",
      "\n",
      "Congratulations 🎉! Your answer is correct.\n"
     ]
    }
   ],
   "source": [
    "# Check your answer using following code\n",
    "from qc_grader import grade_ex2c\n",
    "grade_ex2c(cu4)"
   ]
  },
  {
   "cell_type": "markdown",
   "id": "f2045f65",
   "metadata": {},
   "source": [
    "<div class=\"alert alert-block alert-success\">\n",
    "\n",
    "**Exercise 2 final:** Now we have controlled $U$, $U^2$ and $U^4$, we can combine this into a circuit that carries out the quantum part of Shor’s algorithm.\n",
    "\n",
    "The initialization part is easy: we need to put the counting register into the state $|{+}{+}{+}\\rangle$ (which we can do with three H-gates) and we need the target register to be in the state $|1\\rangle$ (which we mapped to the computational basis state $|00\\rangle$, so we don’t need to do anything here). We'll do all this for you.\n",
    "\n",
    "_Your_ task is to create a circuit that carries out the controlled-$U$s, that will be used in-between the initialization and the inverse quantum Fourier transform. More formally, we want a circuit:\n",
    "\n",
    "\n",
    "$$\n",
    "CU_{c_0 t}CU^2_{c_1 t}CU^4_{c_2 t}\n",
    "$$\n",
    "\n",
    "Where $c_0$, $c_1$ and $c_2$ are the three qubits in the ‘counting’ register, $t$ is the ‘target’ register, and $U$ is as <a href=\"#u-definition\">defined in the first part of this exercise</a>. In this notation, $CU_{a b}$ means $CU$ is controlled by $a$ and acts on $b$. An easy solution to this is to simply combine the circuits `cu`, `cu2` and `cu4` that you created above, but you will most likely find a more efficient circuit that has the same behavior!\n",
    "    \n",
    "</div>\n",
    "<div class=\"alert alert-block alert-danger\">\n",
    "    \n",
    "Your circuit can only contain [CNOTs](https://qiskit.org/documentation/stubs/qiskit.circuit.library.CXGate.html) and single qubit [U-gates](https://qiskit.org/documentation/stubs/qiskit.circuit.library.UGate.html). Your score will be the number of CNOTs you use (less is better), as multi-qubit gates are usually much more difficult to carry out on hardware than single-qubit gates. If you're struggling with this requirement, we've included a line of code next to the submission that will convert your circuit to this form, although you're likely to do better by hand.\n",
    "    \n",
    "</div>"
   ]
  },
  {
   "cell_type": "code",
   "execution_count": 15,
   "id": "940386ec",
   "metadata": {
    "scrolled": true
   },
   "outputs": [
    {
     "data": {
      "image/png": "[encoded data removed]",
      "text/plain": [
       "<Figure size 1169.42x325.08 with 1 Axes>"
      ]
     },
     "execution_count": 15,
     "metadata": {},
     "output_type": "execute_result"
    }
   ],
   "source": [
    "# Code to combine your previous solutions into your final submission\n",
    "cqr = QuantumRegister(3, 'control')\n",
    "tqr = QuantumRegister(2, 'target')\n",
    "cux = QuantumCircuit(cqr, tqr)\n",
    "solutions = [cu, cu2, cu4]\n",
    "for i in range(3):\n",
    "    cux = cux.compose(solutions[i], [cqr[i], tqr[0], tqr[1]])\n",
    "cux.draw('mpl')"
   ]
  },
  {
   "cell_type": "code",
   "execution_count": 17,
   "id": "5518ea6b",
   "metadata": {
    "scrolled": true
   },
   "outputs": [
    {
     "name": "stdout",
     "output_type": "stream",
     "text": [
      "Grading your answer for ex2/part4. Please wait...\n",
      "\n",
      "Congratulations 🎉! Your answer is correct.\n",
      "Your cost is 27.\n",
      "Feel free to submit your answer.\n",
      "\n"
     ]
    }
   ],
   "source": [
    "# Check your answer using following code\n",
    "from qc_grader import grade_ex2_final\n",
    "# Uncomment the two lines below if you need to convert your circuit to CNOTs and single-qubit gates\n",
    "from qiskit import transpile\n",
    "cux = transpile(cux, basis_gates=['cx','u'])\n",
    "grade_ex2_final(cux)"
   ]
  },
  {
   "cell_type": "markdown",
   "id": "adf911db",
   "metadata": {},
   "source": [
    "Once you're happy with the circuit, you can submit it below:"
   ]
  },
  {
   "cell_type": "code",
   "execution_count": 18,
   "id": "6976cc7a",
   "metadata": {
    "scrolled": true
   },
   "outputs": [
    {
     "name": "stdout",
     "output_type": "stream",
     "text": [
      "Submitting your answer for ex2/part4. Please wait...\n",
      "Success 🎉! Your answer has been submitted.\n"
     ]
    }
   ],
   "source": [
    "# Submit your answer. You can re-submit at any time.\n",
    "from qc_grader import submit_ex2_final\n",
    "submit_ex2_final(cux)"
   ]
  },
  {
   "cell_type": "markdown",
   "id": "4b2e151e",
   "metadata": {},
   "source": [
    "Congratulations! You've finished the exercise. Read on to see your circuit used to factor 35, and see how it performs .\n",
    "\n",
    "## Using your circuit to factorize 35\n",
    "\n",
    "The code cell below takes your submission for the exercise and uses it to create a circuit that will give us $\\tfrac{s}{r}$, where $s$ is a random integer between $0$ and $r-1$, and $r$ is the period of the function $f(x) = 13^x \\bmod 35$."
   ]
  },
  {
   "cell_type": "code",
   "execution_count": 19,
   "id": "97044382",
   "metadata": {
    "scrolled": true
   },
   "outputs": [
    {
     "data": {
      "image/png": "[encoded data removed]",
      "text/plain": [
       "<Figure size 1651.02x1228.08 with 1 Axes>"
      ]
     },
     "execution_count": 19,
     "metadata": {},
     "output_type": "execute_result"
    }
   ],
   "source": [
    "from qiskit.circuit.library import QFT\n",
    "from qiskit import ClassicalRegister\n",
    "# Create the circuit object\n",
    "cr = ClassicalRegister(3)\n",
    "shor_circuit = QuantumCircuit(cqr, tqr, cr)\n",
    "\n",
    "# Initialise the qubits\n",
    "shor_circuit.h(cqr)\n",
    "\n",
    "# Add your circuit\n",
    "shor_circuit = shor_circuit.compose(cux)\n",
    "\n",
    "# Perform the inverse QFT and extract the output\n",
    "shor_circuit.append(QFT(3, inverse=True), cqr)\n",
    "shor_circuit.measure(cqr, cr)\n",
    "shor_circuit.draw('mpl')"
   ]
  },
  {
   "cell_type": "markdown",
   "id": "b4bc977e",
   "metadata": {},
   "source": [
    "Let's transpile this circuit and see how large it is, and how many CNOTs it uses:"
   ]
  },
  {
   "cell_type": "code",
   "execution_count": 20,
   "id": "9bfc9a1f",
   "metadata": {
    "scrolled": true
   },
   "outputs": [
    {
     "name": "stdout",
     "output_type": "stream",
     "text": [
      "circuit depth: 58\n",
      "circuit contains 34 CNOTs\n"
     ]
    }
   ],
   "source": [
    "from qiskit import Aer, transpile\n",
    "from qiskit.visualization import plot_histogram\n",
    "qasm_sim = Aer.get_backend('aer_simulator')\n",
    "tqc = transpile(shor_circuit, basis_gates=['u', 'cx'], optimization_level=3)\n",
    "print(f\"circuit depth: {tqc.depth()}\")\n",
    "print(f\"circuit contains {tqc.count_ops()['cx']} CNOTs\")"
   ]
  },
  {
   "cell_type": "markdown",
   "id": "7dc69f71",
   "metadata": {},
   "source": [
    "And let's see what we get:"
   ]
  },
  {
   "cell_type": "code",
   "execution_count": 21,
   "id": "1813fa59",
   "metadata": {
    "scrolled": true
   },
   "outputs": [
    {
     "data": {
      "image/png": "[encoded data removed]",
      "text/plain": [
       "<Figure size 504x360 with 1 Axes>"
      ]
     },
     "execution_count": 21,
     "metadata": {},
     "output_type": "execute_result"
    }
   ],
   "source": [
    "counts = qasm_sim.run(tqc).result().get_counts()\n",
    "plot_histogram(counts)"
   ]
  },
  {
   "cell_type": "markdown",
   "id": "73b4f8ac",
   "metadata": {},
   "source": [
    "Assuming everything has worked correctly, we should see equal probability of measuring the numbers $0$, $2$, $4$ and $8$. This is because phase estimation gives us $2^n \\cdot \\tfrac{s}{r}$, where $n$ is the number of qubits in our counting register (here $n = 3$, $s$ is a random integer between $0$ and $r-1$, and $r$ is the number we're trying to calculate). Let's convert these to fractions that tell us $s/r$ (this is something we can easily calculate classically):"
   ]
  },
  {
   "cell_type": "code",
   "execution_count": 22,
   "id": "c781aebc",
   "metadata": {
    "scrolled": true
   },
   "outputs": [
    {
     "name": "stdout",
     "output_type": "stream",
     "text": [
      "1/2\n",
      "3/4\n",
      "0\n",
      "1/4\n"
     ]
    }
   ],
   "source": [
    "from fractions import Fraction\n",
    "n = 3  # n is number of qubits in our 'counting' register\n",
    "# Cycle through each measurement string\n",
    "for measurement in counts.keys():\n",
    "    # Convert the binary string to an 'int', and divide by 2^n\n",
    "    decimal = int(measurement, 2)/2**n\n",
    "    # Use the continued fractions algorithm to convert to form a/b\n",
    "    print(Fraction(decimal).limit_denominator())"
   ]
  },
  {
   "cell_type": "markdown",
   "id": "c2daffad",
   "metadata": {},
   "source": [
    "We can see the denominator of some of the results will tell us the correct answer $r = 4$. We can verify $r=4$ quickly:"
   ]
  },
  {
   "cell_type": "code",
   "execution_count": 23,
   "id": "be7efcc3",
   "metadata": {
    "scrolled": true
   },
   "outputs": [
    {
     "data": {
      "text/plain": [
       "1"
      ]
     },
     "execution_count": 23,
     "metadata": {},
     "output_type": "execute_result"
    }
   ],
   "source": [
    "13**4 % 35"
   ]
  },
  {
   "cell_type": "markdown",
   "id": "0aa57c15",
   "metadata": {},
   "source": [
    "So how do we get the factors from this? There is then a high probability that the greatest common divisor of $N$ and either $a^{r/2}-1$ or $a^{r/2}+1$ is a factor of $N$, and the greatest common divisor is also something we can easily calculate classically."
   ]
  },
  {
   "cell_type": "code",
   "execution_count": 24,
   "id": "f7409223",
   "metadata": {
    "scrolled": true
   },
   "outputs": [
    {
     "name": "stdout",
     "output_type": "stream",
     "text": [
      "Guessed factor: 7\n",
      "Guessed factor: 5\n"
     ]
    }
   ],
   "source": [
    "from math import gcd # Greatest common divisor\n",
    "for x in [-1, 1]:\n",
    "    print(f\"Guessed factor: {gcd(13**(4//2)+x, 35)}\")"
   ]
  },
  {
   "cell_type": "markdown",
   "id": "a0aa2386",
   "metadata": {},
   "source": [
    "We only need to find one factor, and can use it to divide $N$ to find the other factor. But in this case, _both_ $a^{r/2}-1$ or $a^{r/2}+1$ give us $35$'s factors. We can again verify this is correct:"
   ]
  },
  {
   "cell_type": "code",
   "execution_count": 25,
   "id": "5745ea4b",
   "metadata": {
    "scrolled": true
   },
   "outputs": [
    {
     "data": {
      "text/plain": [
       "35"
      ]
     },
     "execution_count": 25,
     "metadata": {},
     "output_type": "execute_result"
    }
   ],
   "source": [
    "7*5"
   ]
  },
  {
   "cell_type": "markdown",
   "id": "ca47f426",
   "metadata": {},
   "source": [
    "## Running on `ibmq_santiago`\n",
    "\n",
    "We promised this would run on Santiago, so here we will show you how to do that. In this example we will use a simulated Santiago device for convenience, but you can switch this out for the real device if you want:"
   ]
  },
  {
   "cell_type": "code",
   "execution_count": 26,
   "id": "2b6d832f",
   "metadata": {
    "scrolled": true
   },
   "outputs": [
    {
     "name": "stderr",
     "output_type": "stream",
     "text": [
      "ibmqfactory.load_account:WARNING:2021-05-20 23:36:23,169: Credentials are already in use. The existing account in the session will be replaced.\n"
     ]
    },
    {
     "data": {
      "image/png": "[encoded data removed]",
      "text/plain": [
       "<Figure size 504x360 with 1 Axes>"
      ]
     },
     "execution_count": 26,
     "metadata": {},
     "output_type": "execute_result"
    }
   ],
   "source": [
    "from qiskit.test.mock import FakeSantiago\n",
    "from qiskit import assemble\n",
    "from qiskit.visualization import plot_histogram\n",
    "santiago = FakeSantiago()\n",
    "real_device = False\n",
    "\n",
    "## Uncomment this code block to run on the real device\n",
    "#from qiskit import IBMQ\n",
    "IBMQ.load_account()\n",
    "provider = IBMQ.get_provider(hub='ibm-q', group='open', project='main')\n",
    "santiago = provider.get_backend('ibmq_santiago')\n",
    "real_device = True\n",
    "\n",
    "# We need to transpile for Santiago\n",
    "tqc = transpile(shor_circuit, santiago, optimization_level=3)\n",
    "\n",
    "if not real_device:\n",
    "    tqc = assemble(tqc)\n",
    "\n",
    "# Run the circuit and print the counts\n",
    "counts = santiago.run(tqc).result().get_counts()\n",
    "plot_histogram(counts)"
   ]
  },
  {
   "cell_type": "markdown",
   "id": "6aaff43d",
   "metadata": {},
   "source": [
    "If your score was low enough, you should see we have a high probability of measuring $0$, $2$, $4$ or $8$ as we saw with the perfect simulation. You will see some extra results due to inaccuracies in the processor and unwanted things interacting with our qubits. This 'noise' gets worse the longer our circuit is, as longer computation time means more time for unwanted interactions, and more gates means more potential errors. This is why we needed to cheat to create the smallest circuit possible.\n",
    "\n",
    "In the near future, our quantum systems will improve enough that we can start using more advanced error mitigation techniques to overcome these problems, which will mean we can run large enough circuits that we can [perform Shor's algorithm without cheating](https://arxiv.org/pdf/quant-ph/0205095.pdf)."
   ]
  },
  {
   "cell_type": "markdown",
   "id": "0641de43",
   "metadata": {},
   "source": [
    "## Additional information\n",
    "\n",
    "**Created by:** Frank Harkins\n",
    "\n",
    "**Version:** 1.0.0"
   ]
  }
 ],
 "metadata": {
  "kernelspec": {
   "display_name": "Python 3",
   "language": "python",
   "name": "python3"
  },
  "language_info": {
   "codemirror_mode": {
    "name": "ipython",
    "version": 3
   },
   "file_extension": ".py",
   "mimetype": "text/x-python",
   "name": "python",
   "nbconvert_exporter": "python",
   "pygments_lexer": "ipython3",
   "version": "3.8.8"
  },
  "nbdime-conflicts": {
   "local_diff": [
    {
     "diff": [
      {
       "diff": [
        {
         "key": 0,
         "length": 1,
         "op": "removerange"
        }
       ],
       "key": "version",
       "op": "patch"
      }
     ],
     "key": "language_info",
     "op": "patch"
    }
   ],
   "remote_diff": [
    {
     "diff": [
      {
       "diff": [
        {
         "diff": [
          {
           "key": 4,
           "op": "addrange",
           "valuelist": "8"
          },
          {
           "key": 4,
           "length": 1,
           "op": "removerange"
          }
         ],
         "key": 0,
         "op": "patch"
        }
       ],
       "key": "version",
       "op": "patch"
      }
     ],
     "key": "language_info",
     "op": "patch"
    }
   ]
  },
  "widgets": {
   "application/vnd.jupyter.widget-state+json": {
    "state": {
     "07500023b8de4f128e1f4f1c9f2b4e17": {
      "model_module": "@jupyter-widgets/controls",
      "model_module_version": "1.5.0",
      "model_name": "HTMLModel",
      "state": {
       "layout": "IPY_MODEL_706485cd6e9d4384abe897275f171117",
       "style": "IPY_MODEL_f6cb2349fa344af488c32963407c9974",
       "value": "<p style='font-family: IBM Plex Sans, Arial, Helvetica, sans-serif; font-size: 20px; font-weight: medium;'>Circuit Properties</p>"
      }
     },
     "0a3dd28ac0ab4fcfabdfadd99cbd6390": {
      "model_module": "@jupyter-widgets/base",
      "model_module_version": "1.2.0",
      "model_name": "LayoutModel",
      "state": {}
     },
     "1a3e9117401f4b3cb88c1f41f2793550": {
      "model_module": "@jupyter-widgets/controls",
      "model_module_version": "1.5.0",
      "model_name": "DescriptionStyleModel",
      "state": {
       "description_width": ""
      }
     },
     "1a8c8dc4b10f4fc4a8147834555c47b8": {
      "model_module": "@jupyter-widgets/controls",
      "model_module_version": "1.5.0",
      "model_name": "GridBoxModel",
      "state": {
       "children": [
        "IPY_MODEL_90c0f8f60912482bad3b650949137507"
       ],
       "layout": "IPY_MODEL_309bb15fe07a4121a834809d54494c78"
      }
     },
     "21d88ca833564220a1b5f3308ddb0d1a": {
      "model_module": "@jupyter-widgets/base",
      "model_module_version": "1.2.0",
      "model_name": "LayoutModel",
      "state": {
       "width": "145px"
      }
     },
     "2a00ac097f4c4411a3cdd69c5b7e4c9a": {
      "model_module": "@jupyter-widgets/controls",
      "model_module_version": "1.5.0",
      "model_name": "DescriptionStyleModel",
      "state": {
       "description_width": ""
      }
     },
     "309bb15fe07a4121a834809d54494c78": {
      "model_module": "@jupyter-widgets/base",
      "model_module_version": "1.2.0",
      "model_name": "LayoutModel",
      "state": {
       "grid_template_areas": "\n                                       \". . . . right \"\n                                        ",
       "grid_template_columns": "20% 20% 20% 20% 20%",
       "width": "100%"
      }
     },
     "35d1c52a31594991a26608aeb8e50701": {
      "model_module": "@jupyter-widgets/base",
      "model_module_version": "1.2.0",
      "model_name": "LayoutModel",
      "state": {
       "margin": "0px 0px 0px 37px",
       "width": "600px"
      }
     },
     "3dfbc6a0d3e0408eb7114baefe47b33b": {
      "model_module": "@jupyter-widgets/controls",
      "model_module_version": "1.5.0",
      "model_name": "HTMLModel",
      "state": {
       "layout": "IPY_MODEL_21d88ca833564220a1b5f3308ddb0d1a",
       "style": "IPY_MODEL_a332effa85d74ea8b8171fb92af28df6",
       "value": "<h5>Backend</h5>"
      }
     },
     "45fa08a8e8ac4d2c84bedc264a17ad61": {
      "model_module": "@jupyter-widgets/base",
      "model_module_version": "1.2.0",
      "model_name": "LayoutModel",
      "state": {
       "width": "190px"
      }
     },
     "706485cd6e9d4384abe897275f171117": {
      "model_module": "@jupyter-widgets/base",
      "model_module_version": "1.2.0",
      "model_name": "LayoutModel",
      "state": {
       "margin": "0px 0px 10px 0px"
      }
     },
     "72385d61edc045a98a942aa8ac2d8eae": {
      "model_module": "@jupyter-widgets/controls",
      "model_module_version": "1.5.0",
      "model_name": "HTMLModel",
      "state": {
       "layout": "IPY_MODEL_eb72496336524867a865ebe704c9e69e",
       "style": "IPY_MODEL_c102e4816e3a41fbade56954f0e10c89",
       "value": "<h5>Status</h5>"
      }
     },
     "74949d9142f44b75b65a89ad77ba6375": {
      "model_module": "@quantum/ibm-q-lab-widgets",
      "model_module_version": "^1.0.3",
      "model_name": "CircuitComposerModel",
      "state": {
       "_model_module_version": "^1.0.3",
       "_view_module_version": "^1.0.3",
       "circuit": "\"OPENQASM 2.0;\\ninclude \\\"qelib1.inc\\\";\\n\\nqreg q[3];\\ncreg c[3];\\n\\ncx q[0],q[1];\\nx q[0];\\ncx q[1],q[2];\\nx q[2];\\ncx q[0],q[2];\\nccx q[0],q[1],q[2];\\nx q[0];\"",
       "editable": true,
       "layout": "IPY_MODEL_8e87c78c7dd04ecba88a78a2b302f971",
       "qiskit_code_cell_index": 6
      }
     },
     "79ee1d67a10f4d879234f6499243d51f": {
      "model_module": "@jupyter-widgets/controls",
      "model_module_version": "1.5.0",
      "model_name": "HBoxModel",
      "state": {
       "children": [
        "IPY_MODEL_cda669d0f86a43d8b08de685d63f8f47",
        "IPY_MODEL_3dfbc6a0d3e0408eb7114baefe47b33b",
        "IPY_MODEL_72385d61edc045a98a942aa8ac2d8eae",
        "IPY_MODEL_d741d79ade3e47aba1f453c0f407cf26",
        "IPY_MODEL_82c0ad2cf57441e385753d01919b1bfc"
       ],
       "layout": "IPY_MODEL_35d1c52a31594991a26608aeb8e50701"
      }
     },
     "82c0ad2cf57441e385753d01919b1bfc": {
      "model_module": "@jupyter-widgets/controls",
      "model_module_version": "1.5.0",
      "model_name": "HTMLModel",
      "state": {
       "layout": "IPY_MODEL_0a3dd28ac0ab4fcfabdfadd99cbd6390",
       "style": "IPY_MODEL_1a3e9117401f4b3cb88c1f41f2793550",
       "value": "<h5>Message</h5>"
      }
     },
     "89249d78fbea4c568791ad115f40a363": {
      "model_module": "@jupyter-widgets/base",
      "model_module_version": "1.2.0",
      "model_name": "LayoutModel",
      "state": {
       "grid_area": "right",
       "padding": "0px 0px 0px 0px",
       "width": "70px"
      }
     },
     "8d3fb79bf6444e19892a6a6ed2ca77cb": {
      "model_module": "@quantum/ibm-q-lab-widgets",
      "model_module_version": "^1.0.3",
      "model_name": "CircuitComposerModel",
      "state": {
       "_model_module_version": "^1.0.3",
       "_view_module_version": "^1.0.3",
       "circuit": "\"OPENQASM 2.0;\\ninclude \\\"qelib1.inc\\\";\\n\\nqreg q[3];\\ncreg c[3];\\n\\n\"",
       "editable": true,
       "layout": "IPY_MODEL_9ef20a3c94aa4695b1bc2a09137ebcfa",
       "qiskit_code_cell_index": 6
      }
     },
     "8e87c78c7dd04ecba88a78a2b302f971": {
      "model_module": "@jupyter-widgets/base",
      "model_module_version": "1.2.0",
      "model_name": "LayoutModel",
      "state": {}
     },
     "90c0f8f60912482bad3b650949137507": {
      "model_module": "@jupyter-widgets/controls",
      "model_module_version": "1.5.0",
      "model_name": "ButtonModel",
      "state": {
       "button_style": "primary",
       "description": "Clear",
       "layout": "IPY_MODEL_89249d78fbea4c568791ad115f40a363",
       "style": "IPY_MODEL_b9aac4c2b31a44458faf10cefd94afff"
      }
     },
     "9b606d295ec144b6af4b75631dcbfa90": {
      "model_module": "@jupyter-widgets/base",
      "model_module_version": "1.2.0",
      "model_name": "LayoutModel",
      "state": {
       "width": "70px"
      }
     },
     "9ef20a3c94aa4695b1bc2a09137ebcfa": {
      "model_module": "@jupyter-widgets/base",
      "model_module_version": "1.2.0",
      "model_name": "LayoutModel",
      "state": {}
     },
     "a332effa85d74ea8b8171fb92af28df6": {
      "model_module": "@jupyter-widgets/controls",
      "model_module_version": "1.5.0",
      "model_name": "DescriptionStyleModel",
      "state": {
       "description_width": ""
      }
     },
     "b299a18ad2864bf69203d654a8c9c4a4": {
      "model_module": "@jupyter-widgets/controls",
      "model_module_version": "1.5.0",
      "model_name": "DescriptionStyleModel",
      "state": {
       "description_width": ""
      }
     },
     "b9aac4c2b31a44458faf10cefd94afff": {
      "model_module": "@jupyter-widgets/controls",
      "model_module_version": "1.5.0",
      "model_name": "ButtonStyleModel",
      "state": {}
     },
     "c102e4816e3a41fbade56954f0e10c89": {
      "model_module": "@jupyter-widgets/controls",
      "model_module_version": "1.5.0",
      "model_name": "DescriptionStyleModel",
      "state": {
       "description_width": ""
      }
     },
     "cda669d0f86a43d8b08de685d63f8f47": {
      "model_module": "@jupyter-widgets/controls",
      "model_module_version": "1.5.0",
      "model_name": "HTMLModel",
      "state": {
       "layout": "IPY_MODEL_45fa08a8e8ac4d2c84bedc264a17ad61",
       "style": "IPY_MODEL_2a00ac097f4c4411a3cdd69c5b7e4c9a",
       "value": "<h5>Job ID</h5>"
      }
     },
     "d741d79ade3e47aba1f453c0f407cf26": {
      "model_module": "@jupyter-widgets/controls",
      "model_module_version": "1.5.0",
      "model_name": "HTMLModel",
      "state": {
       "layout": "IPY_MODEL_9b606d295ec144b6af4b75631dcbfa90",
       "style": "IPY_MODEL_b299a18ad2864bf69203d654a8c9c4a4",
       "value": "<h5>Queue</h5>"
      }
     },
     "eb72496336524867a865ebe704c9e69e": {
      "model_module": "@jupyter-widgets/base",
      "model_module_version": "1.2.0",
      "model_name": "LayoutModel",
      "state": {
       "width": "95px"
      }
     },
     "f6cb2349fa344af488c32963407c9974": {
      "model_module": "@jupyter-widgets/controls",
      "model_module_version": "1.5.0",
      "model_name": "DescriptionStyleModel",
      "state": {
       "description_width": ""
      }
     }
    },
    "version_major": 2,
    "version_minor": 0
   }
  }
 },
 "nbformat": 4,
 "nbformat_minor": 5
}
